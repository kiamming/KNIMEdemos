{
 "cells": [
  {
   "cell_type": "markdown",
   "metadata": {},
   "source": [
    "# Implementing a Decision Tree using KNIME\n",
    "\n",
    "In this section, we will use the KNIME Decision Tree node to see how to classify customers with credit cards into multiple classes. This will help us predict if a particular customer is of high or low risk in defaulting on his or her credit card loan."
   ]
  },
  {
   "cell_type": "markdown",
   "metadata": {},
   "source": [
    "Referring to the figure below, a decision tree is a <strong>tree-like graph or model</strong> usually shown inverted. The root of the tree is shown at the top while the nodes or leaves are at the bottom. \n",
    "\n",
    "As in most of the cases for modelling, we require an input set of data to construct a model. In this case, we are constructing a tree model. Once the tree model is constructed, we can subsequently use it to predict the class or category when we are given an input record with the specified input attributes.\n",
    "\n",
    "* ![sampleDecisionTree](https://raw.githubusercontent.com/kiamming/fraudDetectionPython/master/Screenshots/undersampling.jpg)"
   ]
  },
  {
   "cell_type": "code",
   "execution_count": null,
   "metadata": {},
   "outputs": [],
   "source": []
  }
 ],
 "metadata": {
  "kernelspec": {
   "display_name": "Python 3",
   "language": "python",
   "name": "python3"
  },
  "language_info": {
   "codemirror_mode": {
    "name": "ipython",
    "version": 3
   },
   "file_extension": ".py",
   "mimetype": "text/x-python",
   "name": "python",
   "nbconvert_exporter": "python",
   "pygments_lexer": "ipython3",
   "version": "3.7.6"
  }
 },
 "nbformat": 4,
 "nbformat_minor": 4
}
